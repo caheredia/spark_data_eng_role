{
 "cells": [
  {
   "cell_type": "markdown",
   "metadata": {},
   "source": [
    "## Loading spark \n",
    "- followed these instructions, https://blog.sicara.com/get-started-pyspark-jupyter-guide-tutorial-ae2fe84f594f\n",
    "- place sym link in conda virtual environment"
   ]
  },
  {
   "cell_type": "code",
   "execution_count": 1,
   "metadata": {},
   "outputs": [],
   "source": [
    "from pyspark import SparkContext\n",
    "import findspark\n",
    "findspark.init()\n",
    "sc = SparkContext('local')"
   ]
  },
  {
   "cell_type": "markdown",
   "metadata": {},
   "source": [
    "# Read the files"
   ]
  },
  {
   "cell_type": "code",
   "execution_count": 12,
   "metadata": {},
   "outputs": [],
   "source": [
    "# data locations\n",
    "raw_data = 'data/raw/'\n",
    "do_not_call_location = raw_data + 'donotcall.txt'\n",
    "transactions_location = raw_data + 'transactions.txt'\n",
    "users_location = raw_data + 'users.txt'"
   ]
  },
  {
   "cell_type": "code",
   "execution_count": 13,
   "metadata": {},
   "outputs": [],
   "source": [
    "# Load text files\n",
    "do_not_call = sc.textFile(do_not_call_location)\n",
    "transactions = sc.textFile(transactions_location)\n",
    "users = sc.textFile(users_location)"
   ]
  },
  {
   "cell_type": "code",
   "execution_count": 34,
   "metadata": {},
   "outputs": [
    {
     "name": "stdout",
     "output_type": "stream",
     "text": [
      "First line of each file\n",
      "\n",
      "donotcall.txt: \t\t(533) 072-2779\n",
      "transactions.txt: \t\t815581247;$144.82;2015-09-05\n",
      "users.txt: \t\t1106214172;Prometheus Barwis;prometheus.barwis@me.com;(533) 072-2779\n"
     ]
    }
   ],
   "source": [
    "# first line from each file\n",
    "print('First line of each file\\n')\n",
    "for file, item in zip([do_not_call_location, transactions_location, users_location], [do_not_call, transactions, users]):\n",
    "    print('{}: \\t\\t{}'.format(file.split('/')[-1], item.first()))"
   ]
  },
  {
   "cell_type": "markdown",
   "metadata": {},
   "source": [
    "# Peak into data"
   ]
  },
  {
   "cell_type": "code",
   "execution_count": 44,
   "metadata": {},
   "outputs": [
    {
     "name": "stdout",
     "output_type": "stream",
     "text": [
      "Number of transactions: \t500000\n",
      "Data for first transaction: \t815581247;$144.82;2015-09-05\n",
      "Arrary for first 3 transactions: \t['815581247;$144.82;2015-09-05', '1534673027;$140.93;2014-03-11', '842468364;$104.26;2014-05-06']\n"
     ]
    }
   ],
   "source": [
    "print('Number of transactions: \\t{}'.format(transactions.count()))\n",
    "print('Data for first transaction: \\t{}'.format(transactions.first()))\n",
    "print('Arrary for first 3 transactions: \\t{}'.format(transactions.take(3)))"
   ]
  },
  {
   "cell_type": "markdown",
   "metadata": {},
   "source": [
    "# Sample of transactions "
   ]
  },
  {
   "cell_type": "code",
   "execution_count": 60,
   "metadata": {},
   "outputs": [
    {
     "data": {
      "text/plain": [
       "['1527587572;$871.41;2015-12-09',\n",
       " '1415095111;$954.8;2014-11-25',\n",
       " '1843055806;$233.86;2014-10-12',\n",
       " '488672777;$487.45;2015-02-03',\n",
       " '926714649;$275.25;2014-06-08']"
      ]
     },
     "execution_count": 60,
     "metadata": {},
     "output_type": "execute_result"
    }
   ],
   "source": [
    "# takes a random sample of the data  with parameters (withReplace, fraction, seed)\n",
    "transact1 = transactions.sample(True, 0.0001, 5)\n",
    "transact1.take(5)"
   ]
  },
  {
   "cell_type": "code",
   "execution_count": null,
   "metadata": {},
   "outputs": [],
   "source": []
  },
  {
   "cell_type": "code",
   "execution_count": null,
   "metadata": {},
   "outputs": [],
   "source": []
  }
 ],
 "metadata": {
  "kernelspec": {
   "display_name": "Python [conda env:spark]",
   "language": "python",
   "name": "conda-env-spark-py"
  },
  "language_info": {
   "codemirror_mode": {
    "name": "ipython",
    "version": 3
   },
   "file_extension": ".py",
   "mimetype": "text/x-python",
   "name": "python",
   "nbconvert_exporter": "python",
   "pygments_lexer": "ipython3",
   "version": "3.7.1"
  },
  "latex_envs": {
   "LaTeX_envs_menu_present": true,
   "autoclose": false,
   "autocomplete": true,
   "bibliofile": "biblio.bib",
   "cite_by": "apalike",
   "current_citInitial": 1,
   "eqLabelWithNumbers": true,
   "eqNumInitial": 1,
   "hotkeys": {
    "equation": "Ctrl-E",
    "itemize": "Ctrl-I"
   },
   "labels_anchors": false,
   "latex_user_defs": false,
   "report_style_numbering": false,
   "user_envs_cfg": false
  },
  "toc": {
   "base_numbering": 1,
   "nav_menu": {},
   "number_sections": true,
   "sideBar": true,
   "skip_h1_title": false,
   "title_cell": "Table of Contents",
   "title_sidebar": "Contents",
   "toc_cell": false,
   "toc_position": {},
   "toc_section_display": true,
   "toc_window_display": false
  },
  "varInspector": {
   "cols": {
    "lenName": 16,
    "lenType": 16,
    "lenVar": 40
   },
   "kernels_config": {
    "python": {
     "delete_cmd_postfix": "",
     "delete_cmd_prefix": "del ",
     "library": "var_list.py",
     "varRefreshCmd": "print(var_dic_list())"
    },
    "r": {
     "delete_cmd_postfix": ") ",
     "delete_cmd_prefix": "rm(",
     "library": "var_list.r",
     "varRefreshCmd": "cat(var_dic_list()) "
    }
   },
   "types_to_exclude": [
    "module",
    "function",
    "builtin_function_or_method",
    "instance",
    "_Feature"
   ],
   "window_display": false
  }
 },
 "nbformat": 4,
 "nbformat_minor": 2
}

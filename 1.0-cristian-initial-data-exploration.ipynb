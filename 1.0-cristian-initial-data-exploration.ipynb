{
 "cells": [
  {
   "cell_type": "markdown",
   "metadata": {},
   "source": [
    "## Loading spark \n",
    "- followed these instructions, https://blog.sicara.com/get-started-pyspark-jupyter-guide-tutorial-ae2fe84f594f\n",
    "- place sym link in conda virtual environment"
   ]
  },
  {
   "cell_type": "code",
   "execution_count": 1,
   "metadata": {},
   "outputs": [],
   "source": [
    "from pyspark import SparkContext\n",
    "import findspark\n",
    "findspark.init()\n",
    "sc = SparkContext('local')"
   ]
  },
  {
   "cell_type": "markdown",
   "metadata": {},
   "source": [
    "# Read the files"
   ]
  },
  {
   "cell_type": "code",
   "execution_count": 12,
   "metadata": {},
   "outputs": [],
   "source": [
    "# data locations\n",
    "raw_data = 'data/raw/'\n",
    "do_not_call_location = raw_data + 'donotcall.txt'\n",
    "transactions_location = raw_data + 'transactions.txt'\n",
    "users_location = raw_data + 'users.txt'"
   ]
  },
  {
   "cell_type": "code",
   "execution_count": 13,
   "metadata": {},
   "outputs": [],
   "source": [
    "# Load text files\n",
    "do_not_call = sc.textFile(do_not_call_location)\n",
    "transactions = sc.textFile(transactions_location)\n",
    "users = sc.textFile(users_location)"
   ]
  },
  {
   "cell_type": "code",
   "execution_count": 34,
   "metadata": {},
   "outputs": [
    {
     "name": "stdout",
     "output_type": "stream",
     "text": [
      "First line of each file\n",
      "\n",
      "donotcall.txt: \t\t(533) 072-2779\n",
      "transactions.txt: \t\t815581247;$144.82;2015-09-05\n",
      "users.txt: \t\t1106214172;Prometheus Barwis;prometheus.barwis@me.com;(533) 072-2779\n"
     ]
    }
   ],
   "source": [
    "# first line from each file\n",
    "print('First line of each file\\n')\n",
    "for file, item in zip([do_not_call_location, transactions_location, users_location], [do_not_call, transactions, users]):\n",
    "    print('{}: \\t\\t{}'.format(file.split('/')[-1], item.first()))"
   ]
  },
  {
   "cell_type": "markdown",
   "metadata": {},
   "source": [
    "# Peak into data"
   ]
  },
  {
   "cell_type": "code",
   "execution_count": 44,
   "metadata": {},
   "outputs": [
    {
     "name": "stdout",
     "output_type": "stream",
     "text": [
      "Number of transactions: \t500000\n",
      "Data for first transaction: \t815581247;$144.82;2015-09-05\n",
      "Arrary for first 3 transactions: \t['815581247;$144.82;2015-09-05', '1534673027;$140.93;2014-03-11', '842468364;$104.26;2014-05-06']\n"
     ]
    }
   ],
   "source": [
    "print('Number of transactions: \\t{}'.format(transactions.count()))\n",
    "print('Data for first transaction: \\t{}'.format(transactions.first()))\n",
    "print('Arrary for first 3 transactions: \\t{}'.format(transactions.take(3)))"
   ]
  },
  {
   "cell_type": "markdown",
   "metadata": {},
   "source": [
    "# Sample of transactions "
   ]
  },
  {
   "cell_type": "code",
   "execution_count": 151,
   "metadata": {},
   "outputs": [
    {
     "name": "stdout",
     "output_type": "stream",
     "text": [
      "Items in  transact1: \t41\n"
     ]
    }
   ],
   "source": [
    "# takes a random sample of the data  with parameters (withReplace, fraction, seed)\n",
    "transact1 = transactions.sample(True, 0.0001, 5)\n",
    "print('Items in  transact1: \\t{}'.format(transact1.count()))"
   ]
  },
  {
   "cell_type": "code",
   "execution_count": 152,
   "metadata": {},
   "outputs": [
    {
     "data": {
      "text/plain": [
       "['1527587572;$871.41;2015-12-09',\n",
       " '1415095111;$954.8;2014-11-25',\n",
       " '1843055806;$233.86;2014-10-12',\n",
       " '488672777;$487.45;2015-02-03',\n",
       " '926714649;$275.25;2014-06-08',\n",
       " '1507682285;$581.36;2014-12-05',\n",
       " '504944579;$777.18;2014-01-15',\n",
       " '1098698435;$847.98;2015-03-12',\n",
       " '220464405;$900.37;2015-10-02',\n",
       " '179577834;$486.79;2015-08-25',\n",
       " '1997101895;$13.78;2015-12-30',\n",
       " '796358734;$162.9;2015-06-27',\n",
       " '222221602;$874.99;2014-04-27',\n",
       " '857807192;$820.21;2014-05-11',\n",
       " '1910340420;$36.50;2014-01-01',\n",
       " '104072004;$778.6;2014-03-14',\n",
       " '1479634843;$181.34;2015-05-26',\n",
       " '1074947899;$360.42;2014-12-15',\n",
       " '1164414229;$474.39;2014-06-29',\n",
       " '596443033;$355.21;2015-12-04',\n",
       " '1944400410;$530.7;2015-06-04',\n",
       " '415751671;$821.71;2014-12-06',\n",
       " '313294070;$273.23;2014-09-04',\n",
       " '630691783;$726.42;2014-10-03',\n",
       " '1467251727;$345.71;2015-01-13',\n",
       " '201010966;$605.74;2014-09-21',\n",
       " '1890267290;$402.99;2015-01-04',\n",
       " '1525688137;$649.36;2014-01-23',\n",
       " '860525462;$239.25;2014-10-21',\n",
       " '1462816761;$862.71;2014-12-17',\n",
       " '921475657;$348.21;2015-11-24',\n",
       " '240370213;$772.26;2014-06-06',\n",
       " '754102047;$581.75;2014-08-29',\n",
       " '597950595;$276.7;2014-07-21',\n",
       " '962917972;$87.1;2015-06-14',\n",
       " '1092094080;$369.78;2015-09-21',\n",
       " '1660964504;$850.9;2015-01-26',\n",
       " '232018647;$766.75;2014-03-19',\n",
       " '341402330;$292.25;2015-11-14',\n",
       " '1293665009;$852.47;2014-12-04',\n",
       " '2004725666;$283.89;2014-05-08']"
      ]
     },
     "execution_count": 152,
     "metadata": {},
     "output_type": "execute_result"
    }
   ],
   "source": [
    "# array (always call .count first to avoid collecting a huge RDD)\n",
    "transact1.collect()"
   ]
  },
  {
   "cell_type": "markdown",
   "metadata": {},
   "source": [
    "# filter "
   ]
  },
  {
   "cell_type": "code",
   "execution_count": 153,
   "metadata": {},
   "outputs": [
    {
     "data": {
      "text/plain": [
       "[]"
      ]
     },
     "execution_count": 153,
     "metadata": {},
     "output_type": "execute_result"
    }
   ],
   "source": [
    "transact1.filter(lambda s: '2014-02-17' in s).collect()"
   ]
  },
  {
   "cell_type": "code",
   "execution_count": null,
   "metadata": {},
   "outputs": [],
   "source": []
  }
 ],
 "metadata": {
  "kernelspec": {
   "display_name": "Python [conda env:spark]",
   "language": "python",
   "name": "conda-env-spark-py"
  },
  "language_info": {
   "codemirror_mode": {
    "name": "ipython",
    "version": 3
   },
   "file_extension": ".py",
   "mimetype": "text/x-python",
   "name": "python",
   "nbconvert_exporter": "python",
   "pygments_lexer": "ipython3",
   "version": "3.7.1"
  },
  "latex_envs": {
   "LaTeX_envs_menu_present": true,
   "autoclose": false,
   "autocomplete": true,
   "bibliofile": "biblio.bib",
   "cite_by": "apalike",
   "current_citInitial": 1,
   "eqLabelWithNumbers": true,
   "eqNumInitial": 1,
   "hotkeys": {
    "equation": "Ctrl-E",
    "itemize": "Ctrl-I"
   },
   "labels_anchors": false,
   "latex_user_defs": false,
   "report_style_numbering": false,
   "user_envs_cfg": false
  },
  "toc": {
   "base_numbering": 1,
   "nav_menu": {},
   "number_sections": true,
   "sideBar": true,
   "skip_h1_title": false,
   "title_cell": "Table of Contents",
   "title_sidebar": "Contents",
   "toc_cell": false,
   "toc_position": {},
   "toc_section_display": true,
   "toc_window_display": false
  },
  "varInspector": {
   "cols": {
    "lenName": 16,
    "lenType": 16,
    "lenVar": 40
   },
   "kernels_config": {
    "python": {
     "delete_cmd_postfix": "",
     "delete_cmd_prefix": "del ",
     "library": "var_list.py",
     "varRefreshCmd": "print(var_dic_list())"
    },
    "r": {
     "delete_cmd_postfix": ") ",
     "delete_cmd_prefix": "rm(",
     "library": "var_list.r",
     "varRefreshCmd": "cat(var_dic_list()) "
    }
   },
   "types_to_exclude": [
    "module",
    "function",
    "builtin_function_or_method",
    "instance",
    "_Feature"
   ],
   "window_display": false
  }
 },
 "nbformat": 4,
 "nbformat_minor": 2
}
